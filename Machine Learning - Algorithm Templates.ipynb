{
 "cells": [
  {
   "cell_type": "markdown",
   "metadata": {},
   "source": [
    "<font size=\"+20\"><center><h1>ML Algorithm Templates</h1></center></font>"
   ]
  },
  {
   "cell_type": "markdown",
   "metadata": {},
   "source": [
    "<font size=\"+4\"><h1>Regression</h1></font>"
   ]
  },
  {
   "cell_type": "markdown",
   "metadata": {},
   "source": [
    "<h1>Linear Regression</h1>"
   ]
  },
  {
   "cell_type": "code",
   "execution_count": null,
   "metadata": {},
   "outputs": [],
   "source": [
    "from sklearn import linear_model\n",
    "\n",
    "# Train and test dataset\n",
    "x_train = dataset_train_predictor\n",
    "y_train = dataset_train_predicted\n",
    "x_test = dataset_test_predictor  \n",
    "\n",
    "# Linear regression object\n",
    "model = linear_model.LinearRegression()\n",
    "\n",
    "# Model training and score\n",
    "model.fit(x_train, y_train)\n",
    "model.score(x_train, y_train)\n",
    "\n",
    "# Coefs\n",
    "print('Coefficient: \\n', model.coef_)\n",
    "print('Intercept: \\n', model.intercept_)\n",
    "\n",
    "# Predictions\n",
    "predict_values = model.predict(x_test)"
   ]
  },
  {
   "cell_type": "markdown",
   "metadata": {},
   "source": [
    "<h1>Logistic Regression</h1>"
   ]
  },
  {
   "cell_type": "code",
   "execution_count": null,
   "metadata": {},
   "outputs": [],
   "source": [
    "from sklearn.linear_model import LogisticRegression\n",
    "\n",
    "# Train and test dataset\n",
    "x_train = dataset_train_predictor\n",
    "y_train = dataset_train_predicted\n",
    "x_test = dataset_test_predictor    \n",
    "\n",
    "# logistic regression object\n",
    "model = LogisticRegression()\n",
    "\n",
    "# Model training and score\n",
    "model.fit(x_train, y_train)\n",
    "model.score(x_train, y_train)\n",
    "\n",
    "# Coefs\n",
    "print('Coefficient: \\n', model.coef_)\n",
    "print('Intercept: \\n', model.intercept_)\n",
    "\n",
    "# Predictions\n",
    "predict_values = model.predict(x_test)"
   ]
  },
  {
   "cell_type": "markdown",
   "metadata": {},
   "source": [
    "<h1>Decision Tree</h1>"
   ]
  },
  {
   "cell_type": "code",
   "execution_count": null,
   "metadata": {},
   "outputs": [],
   "source": [
    "from sklearn import tree\n",
    "\n",
    "# Train and test dataset\n",
    "x_train = dataset_train_predictor\n",
    "y_train = dataset_train_predicted\n",
    "x_test = dataset_test_predictor    \n",
    "\n",
    "# Decision Tree object\n",
    "model = tree.DecisionTreeRegressor() \n",
    "\n",
    "# Classifier object\n",
    "model = tree.DecisionTreeClassifier() \n",
    "\n",
    "# Model training and score\n",
    "model.fit(x_train, y_train)\n",
    "model.score(x_train, y_train)\n",
    "\n",
    "# Predictions\n",
    "predict_values = model.predict(x_test)"
   ]
  },
  {
   "cell_type": "markdown",
   "metadata": {},
   "source": [
    "<font size=\"+4\"><h1>Classification</h1></font>"
   ]
  },
  {
   "cell_type": "markdown",
   "metadata": {},
   "source": [
    "<h1>Naive Bayes</h1>"
   ]
  },
  {
   "cell_type": "code",
   "execution_count": null,
   "metadata": {},
   "outputs": [],
   "source": [
    "from sklearn.naive_bayes import GaussianNB\n",
    "\n",
    "# Train and test dataset\n",
    "x_train = dataset_train_predictor\n",
    "y_train = dataset_train_predicted\n",
    "x_test = dataset_test_predictor     \n",
    "\n",
    "# GaussianNB object\n",
    "model = GaussianNB() \n",
    "\n",
    "# Model training\n",
    "model.fit(x_train, y_train)\n",
    "\n",
    "# Predictions\n",
    "predict_values = model.predict(x_test)"
   ]
  },
  {
   "cell_type": "markdown",
   "metadata": {},
   "source": [
    "# Support Vector Machines"
   ]
  },
  {
   "cell_type": "code",
   "execution_count": null,
   "metadata": {},
   "outputs": [],
   "source": [
    "from sklearn import svm\n",
    "\n",
    "# Train and test dataset\n",
    "x_train = dataset_train_predictor\n",
    "y_train = dataset_train_predicted\n",
    "x_test = dataset_test_predictor    \n",
    "\n",
    "# SVM object\n",
    "model = svm.svc() \n",
    "\n",
    "# Model training and score\n",
    "model.fit(x_train, y_train)\n",
    "model.score(x_train, y_train)\n",
    "\n",
    "# Predictions\n",
    "predict_values = model.predict(x_test)"
   ]
  },
  {
   "cell_type": "markdown",
   "metadata": {},
   "source": [
    "# K-Nearest Neighbors"
   ]
  },
  {
   "cell_type": "code",
   "execution_count": null,
   "metadata": {},
   "outputs": [],
   "source": [
    "from sklearn.neighbors import KNeighborsClassifier\n",
    "\n",
    "# Train and test dataset\n",
    "x_train = dataset_train_predictor\n",
    "y_train = dataset_train_predicted\n",
    "x_test = dataset_test_predictor  \n",
    "\n",
    "# KNeighbors classifier object\n",
    "KNeighborsClassifier(n_neighbors = 6) # default: 5\n",
    "\n",
    "# Model training\n",
    "model.fit(x_train, y_train)\n",
    "\n",
    "# Predictions\n",
    "predict_values = model.predict(x_test)"
   ]
  },
  {
   "cell_type": "markdown",
   "metadata": {},
   "source": [
    "<font size=\"+4\"><h1>Clustering</h1></font>"
   ]
  },
  {
   "cell_type": "markdown",
   "metadata": {},
   "source": [
    "# K-Means"
   ]
  },
  {
   "cell_type": "code",
   "execution_count": null,
   "metadata": {},
   "outputs": [],
   "source": [
    "from sklearn.cluster import KMeans\n",
    "\n",
    "# Train and test dataset\n",
    "x_train = dataset_train_predictor\n",
    "x_test = dataset_test_predictor   \n",
    "\n",
    "# KNeighbors object\n",
    "k_means = KMeans(n_clusters = 3, random_state = 0)\n",
    "\n",
    "# Model training\n",
    "model.fit(x_train)\n",
    "\n",
    "# Predictions\n",
    "predict_values = model.predict(x_test)"
   ]
  },
  {
   "cell_type": "markdown",
   "metadata": {},
   "source": [
    "# Random Forest"
   ]
  },
  {
   "cell_type": "code",
   "execution_count": null,
   "metadata": {},
   "outputs": [],
   "source": [
    "from sklearn.ensemble import RandomForestClassifier\n",
    "\n",
    "# Train and test dataset\n",
    "x_train = dataset_train_predictor\n",
    "y_train = dataset_train_predicted\n",
    "x_test = dataset_test_predictor  \n",
    "\n",
    "# Random Forest object\n",
    "model = RandomForestClassifier()\n",
    "\n",
    "# Model training\n",
    "model.fit(x_train, y_train)\n",
    "\n",
    "# Predictions\n",
    "predict_values = model.predict(x_test)"
   ]
  },
  {
   "cell_type": "markdown",
   "metadata": {},
   "source": [
    "# PCA"
   ]
  },
  {
   "cell_type": "code",
   "execution_count": null,
   "metadata": {},
   "outputs": [],
   "source": [
    "from sklearn import decomposition\n",
    "\n",
    "# Train and test dataset\n",
    "x_train = dataset_train_predictor\n",
    "x_test = dataset_test_predictor    \n",
    "\n",
    "# PCA object\n",
    "pca= decomposition.PCA(n_components = k) \n",
    "\n",
    "# Factor analysis\n",
    "fa= decomposition.FactorAnalysis()\n",
    "\n",
    "# Training dataset dimension reduction\n",
    "train_reduc = pca.fit_transform(x_train)\n",
    "\n",
    "# Test dataset dimension reduction\n",
    "test_reduc = pca.transform(x_test)"
   ]
  },
  {
   "cell_type": "markdown",
   "metadata": {},
   "source": [
    "# Gradient Boosting & AdaBoost"
   ]
  },
  {
   "cell_type": "code",
   "execution_count": null,
   "metadata": {},
   "outputs": [],
   "source": [
    "from sklearn.ensemble import GradientBoostingClassifier\n",
    "\n",
    "# Train and test dataset\n",
    "x_train = dataset_train_predictor\n",
    "y_train = dataset_train_predicted\n",
    "x_test = dataset_test_predictor   \n",
    "\n",
    "# Criando o objeto Gradient Boosting \n",
    "model = GradientBoostingClassifier(n_estimators = 100, learning_rate = 1.0, max_depth = 1, random_state = 0)\n",
    "\n",
    "# Model training\n",
    "model.fit(x_train, y_train)\n",
    "\n",
    "# Predictions\n",
    "predict_values = model.predict(x_test)"
   ]
  }
 ],
 "metadata": {
  "anaconda-cloud": {},
  "kernelspec": {
   "display_name": "Python 3",
   "language": "python",
   "name": "python3"
  },
  "language_info": {
   "codemirror_mode": {
    "name": "ipython",
    "version": 3
   },
   "file_extension": ".py",
   "mimetype": "text/x-python",
   "name": "python",
   "nbconvert_exporter": "python",
   "pygments_lexer": "ipython3",
   "version": "3.7.3"
  }
 },
 "nbformat": 4,
 "nbformat_minor": 1
}
